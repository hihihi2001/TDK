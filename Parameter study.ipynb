{
 "cells": [
  {
   "cell_type": "code",
   "execution_count": 1,
   "metadata": {},
   "outputs": [
    {
     "data": {
      "text/plain": [
       "<module 'diffeq' from 'F:\\\\OneDrive - Budapesti Műszaki és Gazdaságtudományi Egyetem\\\\TDK\\\\diffeq.py'>"
      ]
     },
     "execution_count": 1,
     "metadata": {},
     "output_type": "execute_result"
    }
   ],
   "source": [
    "\"\"\"Libraries\"\"\"\n",
    "\n",
    "%matplotlib inline\n",
    "import matplotlib.pyplot as plt\n",
    "import numpy as np\n",
    "import time\n",
    "import os\n",
    "import random\n",
    "from scipy.integrate import solve_ivp\n",
    "from multiprocessing import Pool\n",
    "import importlib\n",
    "\n",
    "# my own file:\n",
    "import diffeq as de\n",
    "importlib.reload(de)"
   ]
  },
  {
   "cell_type": "code",
   "execution_count": 3,
   "metadata": {},
   "outputs": [],
   "source": [
    "\"\"\"Spacing\"\"\"\n",
    "\n",
    "def expspace(Range, num, order=1):\n",
    "    num -= 1\n",
    "    a = (Range[1] - Range[0]) / (np.exp(num * order) - 1.0)\n",
    "    b = Range[0] - a * 1.0\n",
    "    nums = np.linspace(0, num, num+1)\n",
    "    return a * np.exp(nums * order) + b"
   ]
  },
  {
   "cell_type": "code",
   "execution_count": 34,
   "metadata": {},
   "outputs": [
    {
     "name": "stdout",
     "output_type": "stream",
     "text": [
      "R_E: 20\n",
      "ratio: 20\n",
      "P_inf: 20\n",
      "alfa_M: 4\n",
      "T_inf: 4\n",
      "surfactant: 4\n",
      "index: 2\n",
      "total combinations: 1024000\n"
     ]
    }
   ],
   "source": [
    "\"\"\"Control parameters\"\"\"\n",
    "# Equilibrium radius [um --> m]\n",
    "R_E_list = [1e-6*x for x in np.linspace(0.1, 30.0, 20)]\n",
    "# R_star / R_E [-]\n",
    "ratio_list = np.linspace(1.5, 30.0, 20)\n",
    "# Ambient pressure [Pa]\n",
    "P_inf_list = [1e5*x for x in np.linspace(1.0, 100.0, 20)]\n",
    "# Accommodation coeff. for evaporation [-]\n",
    "alfa_M_list = [0.05, 0.15, 0.25, 0.35]\n",
    "# Ambient temperature [°C --> K]\n",
    "T_inf_list = [273.15+x for x in [5.0, 20.0, 35.0, 50.0]]\n",
    "# Surface tension modifier [-]\n",
    "surfactant_list = [0.25, 0.5, 0.75, 1.0]\n",
    "# Index of neutral gas [Ar: 9; He: 10]\n",
    "index_list = [9, 10]\n",
    "\n",
    "print(f'R_E: {len(R_E_list)}')\n",
    "print(f'ratio: {len(ratio_list)}')\n",
    "print(f'P_inf: {len(P_inf_list)}')\n",
    "print(f'alfa_M: {len(alfa_M_list)}')\n",
    "print(f'T_inf: {len(T_inf_list)}')\n",
    "print(f'surfactant: {len(surfactant_list)}')\n",
    "print(f'index: {len(index_list)}')\n",
    "print(f'total combinations: {len(R_E_list) * len(ratio_list) * len(P_inf_list) * len(alfa_M_list) * len(T_inf_list) * len(surfactant_list) *len(index_list)}')\n",
    "\n",
    "parameters = []\n",
    "ID = 0\n",
    "for R_E in R_E_list:\n",
    "    for ratio in ratio_list:\n",
    "        for P_inf in P_inf_list:\n",
    "            for alfa_M in alfa_M_list:\n",
    "                for T_inf in T_inf_list:\n",
    "                    for surfactant in surfactant_list:\n",
    "                        for index in index_list:\n",
    "                            P_v = de.VapourPressure(T_inf)\n",
    "                            parameters.append([ID, R_E, ratio, P_inf, alfa_M, T_inf, P_v, index, surfactant])\n",
    "                            ID += 1\n",
    "                            \n",
    "random.seed(0)\n",
    "random.shuffle(parameters)"
   ]
  },
  {
   "cell_type": "code",
   "execution_count": 4,
   "metadata": {},
   "outputs": [],
   "source": [
    "\"\"\"Create folder to save files\"\"\"\n",
    "\n",
    "study_name = 'full study try 3'\n",
    "file_format = '.csv'\n",
    "file_base_name = 'output_'\n",
    "seperator = ','\n",
    "line_end = '\\n'\n",
    "\n",
    "parent_dir = os.getcwd()\n",
    "all_files = os.listdir(parent_dir)\n",
    "exists = False\n",
    "for file in all_files:\n",
    "    if os.path.isdir(file):\n",
    "        if os.path.basename(file) == study_name:\n",
    "            exists = True\n",
    "            \n",
    "save_dir = os.path.join(parent_dir, study_name)\n",
    "if not exists:\n",
    "    os.mkdir(save_dir)\n",
    "    \n",
    "def create_line(data, seperator=',', line_end='\\n'):\n",
    "    line = ''\n",
    "    for d in data:\n",
    "        line += str(d) + seperator\n",
    "    line = line[:-1]\n",
    "    line += line_end\n",
    "    return line\n",
    "    \n",
    "def new_file(save_dir, file_base_name, number=0, file_format='.txt'):\n",
    "    file = os.path.join(save_dir, file_base_name + str(number) + file_format)\n",
    "    f = open(file, 'w')\n",
    "    first_line = create_line(de.datalist, seperator)\n",
    "    f.write(first_line)\n",
    "    return f"
   ]
  },
  {
   "cell_type": "code",
   "execution_count": null,
   "metadata": {},
   "outputs": [
    {
     "name": "stdout",
     "output_type": "stream",
     "text": [
      "index: 800076/1024000,   error: 0,   steps: 72645,   runtime: 78.171875 s   |   R_E=26.85263157894737 [um]; ratio=16.5; P_inf=9478947.368421052; alfa_M=0.25; T_inf=293.15 [K]; index=9; surfactant=1.0                                            \r"
     ]
    }
   ],
   "source": [
    "\"\"\"Parameter study, multithread\"\"\"\n",
    "n = 800000\n",
    "lines = 1\n",
    "number = 41\n",
    "max_lines = 20000\n",
    "\n",
    "start = time.process_time()\n",
    "file = new_file(save_dir, file_base_name, number, file_format)\n",
    "with Pool() as pool:\n",
    "    results = pool.imap_unordered(de.solve, parameters[800000:900000])\n",
    "\n",
    "    for data in results:\n",
    "        if lines > max_lines:\n",
    "            lines = 1\n",
    "            number += 1\n",
    "            file.close()\n",
    "            file = new_file(save_dir, file_base_name, number, file_format)\n",
    "        lines += 1\n",
    "        n += 1\n",
    "        line = create_line(data, seperator, line_end)\n",
    "        file.write(line)\n",
    "        print(f'index: {n}/{len(parameters)},   error: {data[1]},   steps: {data[2]},   runtime: {data[3]} s   |   R_E={data[4]*1e6} [um]; ' + \n",
    "              f'ratio={data[5]}; P_inf={data[6]}; alfa_M={data[7]}; T_inf={data[8]} [K]; index={data[10]}; surfactant={data[11]}' +\n",
    "              '                                        ', end='\\r')\n",
    "        \n",
    "'R_E [m]', 'R_0/R_E [-]', 'P_inf [Pa]', 'alfa_M [-]', 'T_inf [K]', 'vapour pressure [Pa]', 'index [Ar: 9; He: 10]', 'surfactant [-]',\n",
    "file.close()\n",
    "end = time.process_time()\n",
    "elapsed = end - start\n",
    "print(f\"\\n{elapsed:.2f} s\")"
   ]
  },
  {
   "cell_type": "code",
   "execution_count": null,
   "metadata": {},
   "outputs": [],
   "source": []
  }
 ],
 "metadata": {
  "kernelspec": {
   "display_name": "Python 3",
   "language": "python",
   "name": "python3"
  },
  "language_info": {
   "codemirror_mode": {
    "name": "ipython",
    "version": 3
   },
   "file_extension": ".py",
   "mimetype": "text/x-python",
   "name": "python",
   "nbconvert_exporter": "python",
   "pygments_lexer": "ipython3",
   "version": "3.8.5"
  }
 },
 "nbformat": 4,
 "nbformat_minor": 4
}
